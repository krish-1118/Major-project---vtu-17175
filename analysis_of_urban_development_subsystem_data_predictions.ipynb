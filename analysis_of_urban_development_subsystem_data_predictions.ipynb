{
  "nbformat": 4,
  "nbformat_minor": 0,
  "metadata": {
    "colab": {
      "provenance": []
    },
    "kernelspec": {
      "name": "python3",
      "display_name": "Python 3"
    },
    "language_info": {
      "name": "python"
    }
  },
  "cells": [
    {
      "cell_type": "code",
      "source": [
        "# Step 1: Import necessary libraries\n",
        "import numpy as np\n",
        "import pandas as pd\n",
        "import matplotlib.pyplot as plt\n",
        "from sklearn.model_selection import train_test_split\n",
        "from sklearn.svm import SVC\n",
        "from sklearn.metrics import accuracy_score, classification_report, confusion_matrix\n",
        "from tensorflow import keras\n",
        "from tensorflow.keras.models import Sequential\n",
        "from tensorflow.keras.layers import Dense, Conv2D, MaxPooling2D, Flatten\n",
        "from sklearn.model_selection import train_test_split\n",
        "from sklearn.ensemble import RandomForestClassifier\n",
        "import tensorflow as tf\n",
        "import seaborn as sns\n",
        "from sklearn.preprocessing import StandardScaler\n",
        "from sklearn.tree import DecisionTreeClassifier\n",
        "from sklearn.linear_model import LogisticRegression\n",
        "from sklearn.neighbors import KNeighborsClassifier\n",
        "from sklearn.metrics import classification_report\n",
        "from sklearn.metrics import confusion_matrix\n",
        "from keras.models import Sequential\n",
        "from keras.layers import Dense"
      ],
      "metadata": {
        "id": "TNdKOYRjNR3j"
      },
      "execution_count": 1,
      "outputs": []
    },
    {
      "cell_type": "code",
      "source": [
        "# Load the dataset\n",
        "data = pd.read_csv('Urban_development_sub_system_dataset.csv')\n",
        "print(data)"
      ],
      "metadata": {
        "colab": {
          "base_uri": "https://localhost:8080/"
        },
        "id": "ZlNMio91NnEN",
        "outputId": "ab63d25f-076d-4140-f888-c80e73bdf60a"
      },
      "execution_count": 2,
      "outputs": [
        {
          "output_type": "stream",
          "name": "stdout",
          "text": [
            "        ID             GDP        Date Health_Care_Facilities  \\\n",
            "0     7981  CA-2014-103800  03-01-2014         Standard Class   \n",
            "1      740  CA-2014-112326  04-01-2014         Standard Class   \n",
            "2      741  CA-2014-112326  04-01-2014         Standard Class   \n",
            "3      742  CA-2014-112326  04-01-2014         Standard Class   \n",
            "4     1760  CA-2014-141817  05-01-2014         Standard Class   \n",
            "...    ...             ...         ...                    ...   \n",
            "9989   908  CA-2017-143259  30-12-2017         Standard Class   \n",
            "9990   909  CA-2017-143259  30-12-2017         Standard Class   \n",
            "9991  1297  CA-2017-115427  30-12-2017         Standard Class   \n",
            "9992  1298  CA-2017-115427  30-12-2017         Standard Class   \n",
            "9993  5092  CA-2017-156720  30-12-2017         Standard Class   \n",
            "\n",
            "     Infrastructure_ID               Name        Country           City  \\\n",
            "0             DP-13000      Darren Powers  United States        Houston   \n",
            "1             PO-19195      Phillina Ober  United States     Naperville   \n",
            "2             PO-19195      Phillina Ober  United States     Naperville   \n",
            "3             PO-19195      Phillina Ober  United States     Naperville   \n",
            "4             MB-18085         Mick Brown  United States   Philadelphia   \n",
            "...                ...                ...            ...            ...   \n",
            "9989          PO-18865  Patrick O'Donnell  United States  New York City   \n",
            "9990          PO-18865  Patrick O'Donnell  United States  New York City   \n",
            "9991          EB-13975         Erica Bern  United States      Fairfield   \n",
            "9992          EB-13975         Erica Bern  United States      Fairfield   \n",
            "9993          JM-15580      Jill Matthias  United States       Loveland   \n",
            "\n",
            "             State  Postal Code  ... Discount   Profit Environmental_Impact  \\\n",
            "0            Texas        77095  ...      0.2   5.5512                   85   \n",
            "1         Illinois        60540  ...      0.2   4.2717                   80   \n",
            "2         Illinois        60540  ...      0.2 -64.7748                   81   \n",
            "3         Illinois        60540  ...      0.8  -5.4870                   79   \n",
            "4     Pennsylvania        19143  ...      0.2   4.8840                   84   \n",
            "...            ...          ...  ...      ...      ...                  ...   \n",
            "9989      New York        10009  ...      0.0   2.7279                 8994   \n",
            "9990      New York        10009  ...      0.2  19.7910                 8995   \n",
            "9991    California        94533  ...      0.2   4.5188                 8996   \n",
            "9992    California        94533  ...      0.2   6.4750                 8997   \n",
            "9993      Colorado        80538  ...      0.2  -0.6048                 8998   \n",
            "\n",
            "      Transportation_Values  Land_Use  Demographics  Income_Disparity  \\\n",
            "0                       115        16            60         36.234725   \n",
            "1                       121        12            68         37.128890   \n",
            "2                       119        14            83         36.481141   \n",
            "3                       116        13            81         36.588803   \n",
            "4                       122        16            61         36.146362   \n",
            "...                     ...       ...           ...               ...   \n",
            "9989                   8994      8994          8994       8994.000000   \n",
            "9990                   8995      8995          8995       8995.000000   \n",
            "9991                   8996      8996          8996       8996.000000   \n",
            "9992                   8997      8997          8997       8997.000000   \n",
            "9993                   8998      8998          8998       8998.000000   \n",
            "\n",
            "      Zoning_Regulations  Urban_Sprawl  Retail_Sector  \n",
            "0                 16.448           110         101.50  \n",
            "1                 11.784           345         101.50  \n",
            "2                272.736           580         101.51  \n",
            "3                  3.540           815         101.51  \n",
            "4                 19.536          1050         101.51  \n",
            "...                  ...           ...            ...  \n",
            "9989            8994.000          8994        8994.00  \n",
            "9990            8995.000          8995        8995.00  \n",
            "9991            8996.000          8996        8996.00  \n",
            "9992            8997.000          8997        8997.00  \n",
            "9993            8998.000          8998        8998.00  \n",
            "\n",
            "[9994 rows x 25 columns]\n"
          ]
        }
      ]
    },
    {
      "cell_type": "code",
      "source": [
        "print(data.head)\n",
        "print(data.tail)\n",
        "print(data.describe)"
      ],
      "metadata": {
        "colab": {
          "base_uri": "https://localhost:8080/"
        },
        "id": "pIm0aBDQh2cl",
        "outputId": "cc52cd38-4c7b-4851-dbf5-744577acdb63"
      },
      "execution_count": 3,
      "outputs": [
        {
          "output_type": "stream",
          "name": "stdout",
          "text": [
            "<bound method NDFrame.head of         ID             GDP        Date Health_Care_Facilities  \\\n",
            "0     7981  CA-2014-103800  03-01-2014         Standard Class   \n",
            "1      740  CA-2014-112326  04-01-2014         Standard Class   \n",
            "2      741  CA-2014-112326  04-01-2014         Standard Class   \n",
            "3      742  CA-2014-112326  04-01-2014         Standard Class   \n",
            "4     1760  CA-2014-141817  05-01-2014         Standard Class   \n",
            "...    ...             ...         ...                    ...   \n",
            "9989   908  CA-2017-143259  30-12-2017         Standard Class   \n",
            "9990   909  CA-2017-143259  30-12-2017         Standard Class   \n",
            "9991  1297  CA-2017-115427  30-12-2017         Standard Class   \n",
            "9992  1298  CA-2017-115427  30-12-2017         Standard Class   \n",
            "9993  5092  CA-2017-156720  30-12-2017         Standard Class   \n",
            "\n",
            "     Infrastructure_ID               Name        Country           City  \\\n",
            "0             DP-13000      Darren Powers  United States        Houston   \n",
            "1             PO-19195      Phillina Ober  United States     Naperville   \n",
            "2             PO-19195      Phillina Ober  United States     Naperville   \n",
            "3             PO-19195      Phillina Ober  United States     Naperville   \n",
            "4             MB-18085         Mick Brown  United States   Philadelphia   \n",
            "...                ...                ...            ...            ...   \n",
            "9989          PO-18865  Patrick O'Donnell  United States  New York City   \n",
            "9990          PO-18865  Patrick O'Donnell  United States  New York City   \n",
            "9991          EB-13975         Erica Bern  United States      Fairfield   \n",
            "9992          EB-13975         Erica Bern  United States      Fairfield   \n",
            "9993          JM-15580      Jill Matthias  United States       Loveland   \n",
            "\n",
            "             State  Postal Code  ... Discount   Profit Environmental_Impact  \\\n",
            "0            Texas        77095  ...      0.2   5.5512                   85   \n",
            "1         Illinois        60540  ...      0.2   4.2717                   80   \n",
            "2         Illinois        60540  ...      0.2 -64.7748                   81   \n",
            "3         Illinois        60540  ...      0.8  -5.4870                   79   \n",
            "4     Pennsylvania        19143  ...      0.2   4.8840                   84   \n",
            "...            ...          ...  ...      ...      ...                  ...   \n",
            "9989      New York        10009  ...      0.0   2.7279                 8994   \n",
            "9990      New York        10009  ...      0.2  19.7910                 8995   \n",
            "9991    California        94533  ...      0.2   4.5188                 8996   \n",
            "9992    California        94533  ...      0.2   6.4750                 8997   \n",
            "9993      Colorado        80538  ...      0.2  -0.6048                 8998   \n",
            "\n",
            "      Transportation_Values  Land_Use  Demographics  Income_Disparity  \\\n",
            "0                       115        16            60         36.234725   \n",
            "1                       121        12            68         37.128890   \n",
            "2                       119        14            83         36.481141   \n",
            "3                       116        13            81         36.588803   \n",
            "4                       122        16            61         36.146362   \n",
            "...                     ...       ...           ...               ...   \n",
            "9989                   8994      8994          8994       8994.000000   \n",
            "9990                   8995      8995          8995       8995.000000   \n",
            "9991                   8996      8996          8996       8996.000000   \n",
            "9992                   8997      8997          8997       8997.000000   \n",
            "9993                   8998      8998          8998       8998.000000   \n",
            "\n",
            "      Zoning_Regulations  Urban_Sprawl  Retail_Sector  \n",
            "0                 16.448           110         101.50  \n",
            "1                 11.784           345         101.50  \n",
            "2                272.736           580         101.51  \n",
            "3                  3.540           815         101.51  \n",
            "4                 19.536          1050         101.51  \n",
            "...                  ...           ...            ...  \n",
            "9989            8994.000          8994        8994.00  \n",
            "9990            8995.000          8995        8995.00  \n",
            "9991            8996.000          8996        8996.00  \n",
            "9992            8997.000          8997        8997.00  \n",
            "9993            8998.000          8998        8998.00  \n",
            "\n",
            "[9994 rows x 25 columns]>\n",
            "<bound method NDFrame.tail of         ID             GDP        Date Health_Care_Facilities  \\\n",
            "0     7981  CA-2014-103800  03-01-2014         Standard Class   \n",
            "1      740  CA-2014-112326  04-01-2014         Standard Class   \n",
            "2      741  CA-2014-112326  04-01-2014         Standard Class   \n",
            "3      742  CA-2014-112326  04-01-2014         Standard Class   \n",
            "4     1760  CA-2014-141817  05-01-2014         Standard Class   \n",
            "...    ...             ...         ...                    ...   \n",
            "9989   908  CA-2017-143259  30-12-2017         Standard Class   \n",
            "9990   909  CA-2017-143259  30-12-2017         Standard Class   \n",
            "9991  1297  CA-2017-115427  30-12-2017         Standard Class   \n",
            "9992  1298  CA-2017-115427  30-12-2017         Standard Class   \n",
            "9993  5092  CA-2017-156720  30-12-2017         Standard Class   \n",
            "\n",
            "     Infrastructure_ID               Name        Country           City  \\\n",
            "0             DP-13000      Darren Powers  United States        Houston   \n",
            "1             PO-19195      Phillina Ober  United States     Naperville   \n",
            "2             PO-19195      Phillina Ober  United States     Naperville   \n",
            "3             PO-19195      Phillina Ober  United States     Naperville   \n",
            "4             MB-18085         Mick Brown  United States   Philadelphia   \n",
            "...                ...                ...            ...            ...   \n",
            "9989          PO-18865  Patrick O'Donnell  United States  New York City   \n",
            "9990          PO-18865  Patrick O'Donnell  United States  New York City   \n",
            "9991          EB-13975         Erica Bern  United States      Fairfield   \n",
            "9992          EB-13975         Erica Bern  United States      Fairfield   \n",
            "9993          JM-15580      Jill Matthias  United States       Loveland   \n",
            "\n",
            "             State  Postal Code  ... Discount   Profit Environmental_Impact  \\\n",
            "0            Texas        77095  ...      0.2   5.5512                   85   \n",
            "1         Illinois        60540  ...      0.2   4.2717                   80   \n",
            "2         Illinois        60540  ...      0.2 -64.7748                   81   \n",
            "3         Illinois        60540  ...      0.8  -5.4870                   79   \n",
            "4     Pennsylvania        19143  ...      0.2   4.8840                   84   \n",
            "...            ...          ...  ...      ...      ...                  ...   \n",
            "9989      New York        10009  ...      0.0   2.7279                 8994   \n",
            "9990      New York        10009  ...      0.2  19.7910                 8995   \n",
            "9991    California        94533  ...      0.2   4.5188                 8996   \n",
            "9992    California        94533  ...      0.2   6.4750                 8997   \n",
            "9993      Colorado        80538  ...      0.2  -0.6048                 8998   \n",
            "\n",
            "      Transportation_Values  Land_Use  Demographics  Income_Disparity  \\\n",
            "0                       115        16            60         36.234725   \n",
            "1                       121        12            68         37.128890   \n",
            "2                       119        14            83         36.481141   \n",
            "3                       116        13            81         36.588803   \n",
            "4                       122        16            61         36.146362   \n",
            "...                     ...       ...           ...               ...   \n",
            "9989                   8994      8994          8994       8994.000000   \n",
            "9990                   8995      8995          8995       8995.000000   \n",
            "9991                   8996      8996          8996       8996.000000   \n",
            "9992                   8997      8997          8997       8997.000000   \n",
            "9993                   8998      8998          8998       8998.000000   \n",
            "\n",
            "      Zoning_Regulations  Urban_Sprawl  Retail_Sector  \n",
            "0                 16.448           110         101.50  \n",
            "1                 11.784           345         101.50  \n",
            "2                272.736           580         101.51  \n",
            "3                  3.540           815         101.51  \n",
            "4                 19.536          1050         101.51  \n",
            "...                  ...           ...            ...  \n",
            "9989            8994.000          8994        8994.00  \n",
            "9990            8995.000          8995        8995.00  \n",
            "9991            8996.000          8996        8996.00  \n",
            "9992            8997.000          8997        8997.00  \n",
            "9993            8998.000          8998        8998.00  \n",
            "\n",
            "[9994 rows x 25 columns]>\n",
            "<bound method NDFrame.describe of         ID             GDP        Date Health_Care_Facilities  \\\n",
            "0     7981  CA-2014-103800  03-01-2014         Standard Class   \n",
            "1      740  CA-2014-112326  04-01-2014         Standard Class   \n",
            "2      741  CA-2014-112326  04-01-2014         Standard Class   \n",
            "3      742  CA-2014-112326  04-01-2014         Standard Class   \n",
            "4     1760  CA-2014-141817  05-01-2014         Standard Class   \n",
            "...    ...             ...         ...                    ...   \n",
            "9989   908  CA-2017-143259  30-12-2017         Standard Class   \n",
            "9990   909  CA-2017-143259  30-12-2017         Standard Class   \n",
            "9991  1297  CA-2017-115427  30-12-2017         Standard Class   \n",
            "9992  1298  CA-2017-115427  30-12-2017         Standard Class   \n",
            "9993  5092  CA-2017-156720  30-12-2017         Standard Class   \n",
            "\n",
            "     Infrastructure_ID               Name        Country           City  \\\n",
            "0             DP-13000      Darren Powers  United States        Houston   \n",
            "1             PO-19195      Phillina Ober  United States     Naperville   \n",
            "2             PO-19195      Phillina Ober  United States     Naperville   \n",
            "3             PO-19195      Phillina Ober  United States     Naperville   \n",
            "4             MB-18085         Mick Brown  United States   Philadelphia   \n",
            "...                ...                ...            ...            ...   \n",
            "9989          PO-18865  Patrick O'Donnell  United States  New York City   \n",
            "9990          PO-18865  Patrick O'Donnell  United States  New York City   \n",
            "9991          EB-13975         Erica Bern  United States      Fairfield   \n",
            "9992          EB-13975         Erica Bern  United States      Fairfield   \n",
            "9993          JM-15580      Jill Matthias  United States       Loveland   \n",
            "\n",
            "             State  Postal Code  ... Discount   Profit Environmental_Impact  \\\n",
            "0            Texas        77095  ...      0.2   5.5512                   85   \n",
            "1         Illinois        60540  ...      0.2   4.2717                   80   \n",
            "2         Illinois        60540  ...      0.2 -64.7748                   81   \n",
            "3         Illinois        60540  ...      0.8  -5.4870                   79   \n",
            "4     Pennsylvania        19143  ...      0.2   4.8840                   84   \n",
            "...            ...          ...  ...      ...      ...                  ...   \n",
            "9989      New York        10009  ...      0.0   2.7279                 8994   \n",
            "9990      New York        10009  ...      0.2  19.7910                 8995   \n",
            "9991    California        94533  ...      0.2   4.5188                 8996   \n",
            "9992    California        94533  ...      0.2   6.4750                 8997   \n",
            "9993      Colorado        80538  ...      0.2  -0.6048                 8998   \n",
            "\n",
            "      Transportation_Values  Land_Use  Demographics  Income_Disparity  \\\n",
            "0                       115        16            60         36.234725   \n",
            "1                       121        12            68         37.128890   \n",
            "2                       119        14            83         36.481141   \n",
            "3                       116        13            81         36.588803   \n",
            "4                       122        16            61         36.146362   \n",
            "...                     ...       ...           ...               ...   \n",
            "9989                   8994      8994          8994       8994.000000   \n",
            "9990                   8995      8995          8995       8995.000000   \n",
            "9991                   8996      8996          8996       8996.000000   \n",
            "9992                   8997      8997          8997       8997.000000   \n",
            "9993                   8998      8998          8998       8998.000000   \n",
            "\n",
            "      Zoning_Regulations  Urban_Sprawl  Retail_Sector  \n",
            "0                 16.448           110         101.50  \n",
            "1                 11.784           345         101.50  \n",
            "2                272.736           580         101.51  \n",
            "3                  3.540           815         101.51  \n",
            "4                 19.536          1050         101.51  \n",
            "...                  ...           ...            ...  \n",
            "9989            8994.000          8994        8994.00  \n",
            "9990            8995.000          8995        8995.00  \n",
            "9991            8996.000          8996        8996.00  \n",
            "9992            8997.000          8997        8997.00  \n",
            "9993            8998.000          8998        8998.00  \n",
            "\n",
            "[9994 rows x 25 columns]>\n"
          ]
        }
      ]
    },
    {
      "cell_type": "code",
      "source": [
        "data['Target'] = (data['Environmental_Impact'].shift(-1) > data['Environmental_Impact']).astype(int)"
      ],
      "metadata": {
        "id": "bx7jeP9c4f_5"
      },
      "execution_count": 4,
      "outputs": []
    },
    {
      "cell_type": "code",
      "source": [
        "# Drop rows with NaN values\n",
        "data.dropna(inplace=True)"
      ],
      "metadata": {
        "id": "cHEGLJ1X4h4F"
      },
      "execution_count": 5,
      "outputs": []
    },
    {
      "cell_type": "code",
      "source": [
        "# Gathering the Companies Strategies Information\n",
        "scaler = StandardScaler()\n",
        "scaled_data = scaler.fit_transform(data[['Environmental_Impact', 'Transportation_Values', 'Land_Use', 'Demographics']])\n",
        "print(scaled_data)"
      ],
      "metadata": {
        "colab": {
          "base_uri": "https://localhost:8080/"
        },
        "id": "hNEfLjNQmBiY",
        "outputId": "0c45cf91-6380-4fcd-b7b6-2c4d423eef55"
      },
      "execution_count": 6,
      "outputs": [
        {
          "output_type": "stream",
          "name": "stdout",
          "text": [
            "[[-1.42076411 -1.41520622 -1.43856065 -1.43019485]\n",
            " [-1.42255154 -1.41305607 -1.43998601 -1.42733431]\n",
            " [-1.42219405 -1.41377279 -1.43927333 -1.42197079]\n",
            " ...\n",
            " [ 1.76478889  1.76737382  1.76137657  1.76503173]\n",
            " [ 1.76514638  1.76773218  1.76173291  1.7653893 ]\n",
            " [ 1.76550386  1.76809054  1.76208926  1.76574687]]\n"
          ]
        }
      ]
    },
    {
      "cell_type": "code",
      "source": [
        "# Create features and target variable\n",
        "X = scaled_data[:, :-1]\n",
        "y = data['Target'].values"
      ],
      "metadata": {
        "id": "Q2FbfEIF4uiI"
      },
      "execution_count": 7,
      "outputs": []
    },
    {
      "cell_type": "code",
      "source": [
        "print(type(X))\n",
        "print(type(y))"
      ],
      "metadata": {
        "colab": {
          "base_uri": "https://localhost:8080/"
        },
        "id": "GalB4G2GUiIJ",
        "outputId": "bb802e91-d4f5-43a2-be28-dfe29b040757"
      },
      "execution_count": 8,
      "outputs": [
        {
          "output_type": "stream",
          "name": "stdout",
          "text": [
            "<class 'numpy.ndarray'>\n",
            "<class 'numpy.ndarray'>\n"
          ]
        }
      ]
    },
    {
      "cell_type": "code",
      "source": [
        "# Split the data into training and testing sets\n",
        "X_train, X_test, y_train, y_test = train_test_split(X, y, test_size=0.2, random_state=42)"
      ],
      "metadata": {
        "id": "TC_srqexNyQU"
      },
      "execution_count": 9,
      "outputs": []
    },
    {
      "cell_type": "code",
      "source": [
        "print(X_train)"
      ],
      "metadata": {
        "colab": {
          "base_uri": "https://localhost:8080/"
        },
        "id": "07uEc9uhN1c3",
        "outputId": "c9509de2-d6fe-4597-caf6-9860bd24eabc"
      },
      "execution_count": 10,
      "outputs": [
        {
          "output_type": "stream",
          "name": "stdout",
          "text": [
            "[[-0.341158   -0.34371491 -0.33782501]\n",
            " [-0.88239099 -0.88626938 -0.87732445]\n",
            " [ 1.47987298  1.48176226  1.47737324]\n",
            " ...\n",
            " [ 0.11999826  0.11856729  0.12185417]\n",
            " [-1.42469645 -1.411981   -1.44034235]\n",
            " [ 0.79207094  0.79228089  0.79177421]]\n"
          ]
        }
      ]
    },
    {
      "cell_type": "code",
      "source": [
        "# Decision Tree\n",
        "dt_model = DecisionTreeClassifier()\n",
        "dt_model.fit(X_train, y_train)\n",
        "dt_predictions = dt_model.predict(X_test)\n",
        "dt_accuracy = accuracy_score(y_test, dt_predictions)\n",
        "print(f'Decision Tree Accuracy: {dt_accuracy}')"
      ],
      "metadata": {
        "id": "6aYm4hucN6sO",
        "colab": {
          "base_uri": "https://localhost:8080/"
        },
        "outputId": "65b89fe4-f05a-4502-81fa-fa457ada51e0"
      },
      "execution_count": 11,
      "outputs": [
        {
          "output_type": "stream",
          "name": "stdout",
          "text": [
            "Decision Tree Accuracy: 0.9559779889944973\n"
          ]
        }
      ]
    },
    {
      "cell_type": "code",
      "source": [
        "# Random Forest\n",
        "rf_model = RandomForestClassifier()\n",
        "rf_model.fit(X_train, y_train)\n",
        "rf_predictions = rf_model.predict(X_test)\n",
        "rf_accuracy = accuracy_score(y_test, rf_predictions)\n",
        "print(f'Random Forest Accuracy: {rf_accuracy}')"
      ],
      "metadata": {
        "id": "S3qK-nD0N-ku",
        "colab": {
          "base_uri": "https://localhost:8080/"
        },
        "outputId": "7a24da91-dbed-46ce-8f00-16dd01134986"
      },
      "execution_count": 12,
      "outputs": [
        {
          "output_type": "stream",
          "name": "stdout",
          "text": [
            "Random Forest Accuracy: 0.9639819909954978\n"
          ]
        }
      ]
    },
    {
      "cell_type": "code",
      "source": [
        "# Logistic Regression\n",
        "lr_model = LogisticRegression()\n",
        "lr_model.fit(X_train, y_train)\n",
        "lr_predictions = lr_model.predict(X_test)\n",
        "lr_accuracy = accuracy_score(y_test, lr_predictions)\n",
        "print(f'Logistic Regression Accuracy: {lr_accuracy}')"
      ],
      "metadata": {
        "id": "4zgao2P-OBpH",
        "colab": {
          "base_uri": "https://localhost:8080/"
        },
        "outputId": "7a925a39-2851-4466-84e2-09ee87807efb"
      },
      "execution_count": 13,
      "outputs": [
        {
          "output_type": "stream",
          "name": "stdout",
          "text": [
            "Logistic Regression Accuracy: 0.9414707353676839\n"
          ]
        }
      ]
    },
    {
      "cell_type": "code",
      "source": [
        "# Support Vector Machine (SVM)\n",
        "svm_model = SVC()\n",
        "svm_model.fit(X_train, y_train)\n",
        "svm_predictions = svm_model.predict(X_test)\n",
        "svm_accuracy = accuracy_score(y_test, svm_predictions)\n",
        "print(f'SVM Accuracy: {svm_accuracy}')"
      ],
      "metadata": {
        "id": "joU5K8sFOEZc",
        "colab": {
          "base_uri": "https://localhost:8080/"
        },
        "outputId": "34ca613b-003d-4ce0-f879-ee271d814185"
      },
      "execution_count": 14,
      "outputs": [
        {
          "output_type": "stream",
          "name": "stdout",
          "text": [
            "SVM Accuracy: 0.9414707353676839\n"
          ]
        }
      ]
    },
    {
      "cell_type": "code",
      "source": [
        "# K-Nearest Neighbors (KNN)\n",
        "knn_classifier = KNeighborsClassifier()\n",
        "knn_classifier.fit(X_train, y_train)\n",
        "knn_predictions = knn_classifier.predict(X_test)\n",
        "print(knn_predictions)"
      ],
      "metadata": {
        "id": "LnRbQUw-OG33",
        "colab": {
          "base_uri": "https://localhost:8080/"
        },
        "outputId": "36cf4440-6a74-43f7-a7ad-ce9fae62d3b0"
      },
      "execution_count": 15,
      "outputs": [
        {
          "output_type": "stream",
          "name": "stdout",
          "text": [
            "[1 1 1 ... 1 1 1]\n"
          ]
        }
      ]
    },
    {
      "cell_type": "code",
      "source": [
        "# Neural Network using TensorFlow\n",
        "model = Sequential()\n",
        "model.add(Dense(64, input_dim=X_train.shape[1], activation='relu'))\n",
        "model.add(Dense(1, activation='sigmoid'))\n",
        "model.compile(optimizer='adam', loss='binary_crossentropy', metrics=['accuracy'])\n",
        "model.fit(X_train, y_train, epochs=20, batch_size=32, validation_data=(X_test, y_test))\n",
        "nn_predictions = (model.predict(X_test) > 0.5).astype(int).flatten()\n",
        "nn_accuracy = accuracy_score(y_test, nn_predictions)\n",
        "print(f'Neural Network Accuracy: {nn_accuracy}')"
      ],
      "metadata": {
        "id": "sWt0WlZU52g8",
        "colab": {
          "base_uri": "https://localhost:8080/"
        },
        "outputId": "d4b83946-7e21-4d47-91e8-b58d48a52068"
      },
      "execution_count": 16,
      "outputs": [
        {
          "output_type": "stream",
          "name": "stdout",
          "text": [
            "Epoch 1/20\n",
            "250/250 [==============================] - 1s 2ms/step - loss: 0.3318 - accuracy: 0.9321 - val_loss: 0.2155 - val_accuracy: 0.9415\n",
            "Epoch 2/20\n",
            "250/250 [==============================] - 0s 1ms/step - loss: 0.1732 - accuracy: 0.9435 - val_loss: 0.1469 - val_accuracy: 0.9415\n",
            "Epoch 3/20\n",
            "250/250 [==============================] - 0s 1ms/step - loss: 0.1312 - accuracy: 0.9435 - val_loss: 0.1271 - val_accuracy: 0.9415\n",
            "Epoch 4/20\n",
            "250/250 [==============================] - 0s 1ms/step - loss: 0.1180 - accuracy: 0.9435 - val_loss: 0.1168 - val_accuracy: 0.9415\n",
            "Epoch 5/20\n",
            "250/250 [==============================] - 1s 2ms/step - loss: 0.1127 - accuracy: 0.9435 - val_loss: 0.1175 - val_accuracy: 0.9415\n",
            "Epoch 6/20\n",
            "250/250 [==============================] - 1s 2ms/step - loss: 0.1082 - accuracy: 0.9435 - val_loss: 0.1105 - val_accuracy: 0.9415\n",
            "Epoch 7/20\n",
            "250/250 [==============================] - 0s 2ms/step - loss: 0.1064 - accuracy: 0.9435 - val_loss: 0.1078 - val_accuracy: 0.9415\n",
            "Epoch 8/20\n",
            "250/250 [==============================] - 0s 1ms/step - loss: 0.1044 - accuracy: 0.9435 - val_loss: 0.1051 - val_accuracy: 0.9415\n",
            "Epoch 9/20\n",
            "250/250 [==============================] - 0s 1ms/step - loss: 0.1024 - accuracy: 0.9435 - val_loss: 0.1040 - val_accuracy: 0.9415\n",
            "Epoch 10/20\n",
            "250/250 [==============================] - 0s 1ms/step - loss: 0.1017 - accuracy: 0.9423 - val_loss: 0.1025 - val_accuracy: 0.9415\n",
            "Epoch 11/20\n",
            "250/250 [==============================] - 0s 1ms/step - loss: 0.1002 - accuracy: 0.9435 - val_loss: 0.1011 - val_accuracy: 0.9415\n",
            "Epoch 12/20\n",
            "250/250 [==============================] - 0s 2ms/step - loss: 0.0988 - accuracy: 0.9433 - val_loss: 0.1028 - val_accuracy: 0.9415\n",
            "Epoch 13/20\n",
            "250/250 [==============================] - 0s 1ms/step - loss: 0.0993 - accuracy: 0.9433 - val_loss: 0.1001 - val_accuracy: 0.9415\n",
            "Epoch 14/20\n",
            "250/250 [==============================] - 0s 1ms/step - loss: 0.0977 - accuracy: 0.9437 - val_loss: 0.0986 - val_accuracy: 0.9415\n",
            "Epoch 15/20\n",
            "250/250 [==============================] - 0s 1ms/step - loss: 0.0979 - accuracy: 0.9421 - val_loss: 0.0996 - val_accuracy: 0.9415\n",
            "Epoch 16/20\n",
            "250/250 [==============================] - 0s 1ms/step - loss: 0.0980 - accuracy: 0.9436 - val_loss: 0.0972 - val_accuracy: 0.9415\n",
            "Epoch 17/20\n",
            "250/250 [==============================] - 0s 1ms/step - loss: 0.0968 - accuracy: 0.9441 - val_loss: 0.0985 - val_accuracy: 0.9395\n",
            "Epoch 18/20\n",
            "250/250 [==============================] - 0s 1ms/step - loss: 0.0970 - accuracy: 0.9432 - val_loss: 0.0966 - val_accuracy: 0.9415\n",
            "Epoch 19/20\n",
            "250/250 [==============================] - 0s 1ms/step - loss: 0.0960 - accuracy: 0.9428 - val_loss: 0.0982 - val_accuracy: 0.9415\n",
            "Epoch 20/20\n",
            "250/250 [==============================] - 0s 1ms/step - loss: 0.0951 - accuracy: 0.9427 - val_loss: 0.0954 - val_accuracy: 0.9415\n",
            "63/63 [==============================] - 0s 902us/step\n",
            "Neural Network Accuracy: 0.9414707353676839\n"
          ]
        }
      ]
    },
    {
      "cell_type": "code",
      "source": [
        "# Deep Learning with Keras\n",
        "model = Sequential()\n",
        "model.add(Dense(units=64, activation='relu', input_dim=X_train.shape[1]))\n",
        "model.add(Dense(units=32, activation='relu'))\n",
        "model.add(Dense(units=1, activation='sigmoid'))\n",
        "model.compile(optimizer='adam', loss='binary_crossentropy', metrics=['accuracy'])\n",
        "model.fit(X_train, y_train, epochs=10, batch_size=32, verbose=1)\n",
        "dl_predictions = (model.predict(X_test) > 0.5).astype(int).flatten()\n",
        "dl_accuracy = accuracy_score(y_test, dl_predictions)\n",
        "print(f'DL Accuracy: {dl_accuracy}')"
      ],
      "metadata": {
        "id": "kobdVdf9OJdV",
        "colab": {
          "base_uri": "https://localhost:8080/"
        },
        "outputId": "367288a6-a440-4a28-b57e-45e8f1da0021"
      },
      "execution_count": 17,
      "outputs": [
        {
          "output_type": "stream",
          "name": "stdout",
          "text": [
            "Epoch 1/10\n",
            "250/250 [==============================] - 1s 1ms/step - loss: 0.2475 - accuracy: 0.9435\n",
            "Epoch 2/10\n",
            "250/250 [==============================] - 0s 1ms/step - loss: 0.1208 - accuracy: 0.9435\n",
            "Epoch 3/10\n",
            "250/250 [==============================] - 0s 1ms/step - loss: 0.1064 - accuracy: 0.9426\n",
            "Epoch 4/10\n",
            "250/250 [==============================] - 0s 1ms/step - loss: 0.1027 - accuracy: 0.9452\n",
            "Epoch 5/10\n",
            "250/250 [==============================] - 0s 1ms/step - loss: 0.0973 - accuracy: 0.9450\n",
            "Epoch 6/10\n",
            "250/250 [==============================] - 0s 1ms/step - loss: 0.0950 - accuracy: 0.9462\n",
            "Epoch 7/10\n",
            "250/250 [==============================] - 0s 1ms/step - loss: 0.0960 - accuracy: 0.9448\n",
            "Epoch 8/10\n",
            "250/250 [==============================] - 0s 1ms/step - loss: 0.0943 - accuracy: 0.9448\n",
            "Epoch 9/10\n",
            "250/250 [==============================] - 0s 1ms/step - loss: 0.0931 - accuracy: 0.9458\n",
            "Epoch 10/10\n",
            "250/250 [==============================] - 0s 1ms/step - loss: 0.0924 - accuracy: 0.9453\n",
            "63/63 [==============================] - 0s 1ms/step\n",
            "DL Accuracy: 0.9414707353676839\n"
          ]
        }
      ]
    },
    {
      "cell_type": "code",
      "source": [
        "# Evaluation\n",
        "print(\"Random Forest Classifier Accuracy:\", accuracy_score(y_test, rf_predictions))\n",
        "print(\"Logistic Regression Accuracy:\", accuracy_score(y_test, lr_predictions))\n",
        "print(\"SVM Accuracy:\", accuracy_score(y_test, svm_predictions))\n",
        "print(\"KNN Accuracy:\", accuracy_score(y_test, knn_predictions))\n",
        "print(\"Deep Learning Accuracy:\", accuracy_score(y_test, dl_predictions))\n",
        "print(f'Decision Tree Accuracy: {dt_accuracy}')\n",
        "print(\"DL Accuracy:\", accuracy_score(y_test, dl_predictions))"
      ],
      "metadata": {
        "id": "iHJ1rD4_OOCB",
        "colab": {
          "base_uri": "https://localhost:8080/"
        },
        "outputId": "22733788-1a26-4b28-8591-37a2e93942b0"
      },
      "execution_count": 18,
      "outputs": [
        {
          "output_type": "stream",
          "name": "stdout",
          "text": [
            "Random Forest Classifier Accuracy: 0.9639819909954978\n",
            "Logistic Regression Accuracy: 0.9414707353676839\n",
            "SVM Accuracy: 0.9414707353676839\n",
            "KNN Accuracy: 0.968984492246123\n",
            "Deep Learning Accuracy: 0.9414707353676839\n",
            "Decision Tree Accuracy: 0.9559779889944973\n",
            "DL Accuracy: 0.9414707353676839\n"
          ]
        }
      ]
    },
    {
      "cell_type": "code",
      "source": [
        "# Confusion Matrix :\n",
        "print(\"\\nConfusion Matrix for #RandomForestClassifier:\")\n",
        "print(confusion_matrix(y_test, rf_predictions))"
      ],
      "metadata": {
        "id": "XoidlIFkOVBv",
        "colab": {
          "base_uri": "https://localhost:8080/"
        },
        "outputId": "60c37523-32ef-44c1-f895-106ca3e5a0e6"
      },
      "execution_count": 19,
      "outputs": [
        {
          "output_type": "stream",
          "name": "stdout",
          "text": [
            "\n",
            "Confusion Matrix for #RandomForestClassifier:\n",
            "[[  94   23]\n",
            " [  49 1833]]\n"
          ]
        }
      ]
    },
    {
      "cell_type": "code",
      "source": [
        "# Confusion Matrix :\n",
        "print(\"\\nConfusion Matrix for #Logistic Regression :\")\n",
        "print(confusion_matrix(y_test, lr_predictions))"
      ],
      "metadata": {
        "id": "7qz3tSPCOXzv",
        "colab": {
          "base_uri": "https://localhost:8080/"
        },
        "outputId": "75549b67-5b72-4b8a-b95b-60a7f727d8de"
      },
      "execution_count": 20,
      "outputs": [
        {
          "output_type": "stream",
          "name": "stdout",
          "text": [
            "\n",
            "Confusion Matrix for #Logistic Regression :\n",
            "[[   0  117]\n",
            " [   0 1882]]\n"
          ]
        }
      ]
    },
    {
      "cell_type": "code",
      "source": [
        "# Confusion Matrix :\n",
        "print(\"\\nConfusion Matrix for #Support Vector Machine:\")\n",
        "print(confusion_matrix(y_test, svm_predictions))"
      ],
      "metadata": {
        "id": "tM3B861gOaj8",
        "colab": {
          "base_uri": "https://localhost:8080/"
        },
        "outputId": "a0b3a183-6212-47e3-911f-f75bd42d4d70"
      },
      "execution_count": 21,
      "outputs": [
        {
          "output_type": "stream",
          "name": "stdout",
          "text": [
            "\n",
            "Confusion Matrix for #Support Vector Machine:\n",
            "[[   0  117]\n",
            " [   0 1882]]\n"
          ]
        }
      ]
    },
    {
      "cell_type": "code",
      "source": [
        "# Confusion Matrix :\n",
        "print(\"\\nConfusion Matrix for #KNeighborsClassifier:\")\n",
        "print(confusion_matrix(y_test, knn_predictions))"
      ],
      "metadata": {
        "id": "0OskEJOFOdXf",
        "colab": {
          "base_uri": "https://localhost:8080/"
        },
        "outputId": "03ad40b1-6642-4b34-963a-b495b2d1fdb0"
      },
      "execution_count": 22,
      "outputs": [
        {
          "output_type": "stream",
          "name": "stdout",
          "text": [
            "\n",
            "Confusion Matrix for #KNeighborsClassifier:\n",
            "[[  99   18]\n",
            " [  44 1838]]\n"
          ]
        }
      ]
    },
    {
      "cell_type": "code",
      "source": [
        "# Splitting the dataset into the Training set and Test set\n",
        "X_train, X_test, y_train, y_test = train_test_split(X, y, test_size=0.4, random_state=54)\n",
        "# Feature Scaling\n",
        "sc = StandardScaler()\n",
        "X_train = sc.fit_transform(X_train)\n",
        "X_test = sc.transform(X_test)\n",
        "print(X_test)"
      ],
      "metadata": {
        "id": "c9dNoBS7pfpa",
        "colab": {
          "base_uri": "https://localhost:8080/"
        },
        "outputId": "09ea06b6-abc7-4eed-ff9d-a2d587ef5814"
      },
      "execution_count": 23,
      "outputs": [
        {
          "output_type": "stream",
          "name": "stdout",
          "text": [
            "[[ 0.55260614  0.55221967  0.55308805]\n",
            " [ 1.19762752  1.19884278  1.19602249]\n",
            " [ 0.54220257  0.54179027  0.54271814]\n",
            " ...\n",
            " [-0.15519541 -0.1573395  -0.15242344]\n",
            " [-0.31376018 -0.31629802 -0.31047518]\n",
            " [-1.42048485 -1.41318372 -1.42613451]]\n"
          ]
        }
      ]
    },
    {
      "cell_type": "code",
      "source": [
        "'''Implement and train SVM model'''\n",
        "svm_model = SVC(kernel='linear')\n",
        "svm_model.fit(X_train, y_train)\n",
        "svm_accuracy = svm_model.score(X_test, y_test)\n",
        "print(\"SVM Accuracy:\", svm_accuracy)"
      ],
      "metadata": {
        "id": "e2whAQc_Ojno",
        "colab": {
          "base_uri": "https://localhost:8080/"
        },
        "outputId": "6be12205-6376-45b5-b680-bf1581186dec"
      },
      "execution_count": 24,
      "outputs": [
        {
          "output_type": "stream",
          "name": "stdout",
          "text": [
            "SVM Accuracy: 0.9437218609304653\n"
          ]
        }
      ]
    },
    {
      "cell_type": "code",
      "source": [
        "'''Implement and train CNN model'''\n",
        "\n",
        "X_train_cnn = X_train.reshape(X_train.shape[0], X_train.shape[1], 1)\n",
        "X_test_cnn = X_test.reshape(X_test.shape[0], X_test.shape[1], 1)\n",
        "print(X_train_cnn)\n",
        "print(X_test_cnn)"
      ],
      "metadata": {
        "id": "HhdUkeWzOnJd",
        "colab": {
          "base_uri": "https://localhost:8080/"
        },
        "outputId": "2c4667c1-9c24-42f1-d6d9-83fc545584af"
      },
      "execution_count": 25,
      "outputs": [
        {
          "output_type": "stream",
          "name": "stdout",
          "text": [
            "[[[-1.36129212]\n",
            "  [-1.36643121]\n",
            "  [-1.35461788]]\n",
            "\n",
            " [[ 0.62291993]\n",
            "  [ 0.62270806]\n",
            "  [ 0.62317434]]\n",
            "\n",
            " [[-0.09098027]\n",
            "  [-0.0929649 ]\n",
            "  [-0.08841606]]\n",
            "\n",
            " ...\n",
            "\n",
            " [[-1.41833239]\n",
            "  [-1.40239468]\n",
            "  [-1.42756484]]\n",
            "\n",
            " [[ 0.88408542]\n",
            "  [ 0.88452209]\n",
            "  [ 0.88349485]]\n",
            "\n",
            " [[ 0.80731425]\n",
            "  [ 0.80756028]\n",
            "  [ 0.80697206]]]\n",
            "[[[ 0.55260614]\n",
            "  [ 0.55221967]\n",
            "  [ 0.55308805]]\n",
            "\n",
            " [[ 1.19762752]\n",
            "  [ 1.19884278]\n",
            "  [ 1.19602249]]\n",
            "\n",
            " [[ 0.54220257]\n",
            "  [ 0.54179027]\n",
            "  [ 0.54271814]]\n",
            "\n",
            " ...\n",
            "\n",
            " [[-0.15519541]\n",
            "  [-0.1573395 ]\n",
            "  [-0.15242344]]\n",
            "\n",
            " [[-0.31376018]\n",
            "  [-0.31629802]\n",
            "  [-0.31047518]]\n",
            "\n",
            " [[-1.42048485]\n",
            "  [-1.41318372]\n",
            "  [-1.42613451]]]\n"
          ]
        }
      ]
    },
    {
      "cell_type": "code",
      "source": [
        "# Step 6: Visualize the results\n",
        "# Assuming you have predictions from both models\n",
        "svm_predictions = svm_model.predict(X_test)\n",
        "print(svm_predictions)"
      ],
      "metadata": {
        "id": "o2Grcm59OyoA",
        "colab": {
          "base_uri": "https://localhost:8080/"
        },
        "outputId": "6b372e2d-e953-44b8-d70f-557d50757b6b"
      },
      "execution_count": 26,
      "outputs": [
        {
          "output_type": "stream",
          "name": "stdout",
          "text": [
            "[1 1 1 ... 1 1 1]\n"
          ]
        }
      ]
    },
    {
      "cell_type": "code",
      "source": [
        "# Plotting SVM predictions\n",
        "plt.figure(figsize=(10, 5))\n",
        "plt.subplot(1, 2, 1)\n",
        "plt.scatter(range(len(y_test)), y_test, label='Actual', color='blue')\n",
        "plt.scatter(range(len(svm_predictions)), svm_predictions, label='Predicted (SVM)', color='red')\n",
        "plt.title('SVM Predictions')\n",
        "plt.legend()"
      ],
      "metadata": {
        "id": "tT8AmgBuO1_a",
        "colab": {
          "base_uri": "https://localhost:8080/",
          "height": 485
        },
        "outputId": "9443a2be-6c73-455a-c1bd-19e949099441"
      },
      "execution_count": 27,
      "outputs": [
        {
          "output_type": "execute_result",
          "data": {
            "text/plain": [
              "<matplotlib.legend.Legend at 0x7a9fe269e020>"
            ]
          },
          "metadata": {},
          "execution_count": 27
        },
        {
          "output_type": "display_data",
          "data": {
            "text/plain": [
              "<Figure size 1000x500 with 1 Axes>"
            ],
            "image/png": "[encoded data removed]"
          },
          "metadata": {}
        }
      ]
    },
    {
      "cell_type": "code",
      "source": [
        "# Plotting LR predictions\n",
        "plt.subplot(1, 2, 2)\n",
        "plt.scatter(range(len(y_test)), y_test, label='Actual', color='blue')\n",
        "plt.scatter(range(len(lr_predictions)), lr_predictions, label='Predicted (LR)', color='green')\n",
        "plt.title('LR Predictions')\n",
        "plt.legend()\n",
        "plt.show()"
      ],
      "metadata": {
        "id": "QE-YsqTUO66v",
        "colab": {
          "base_uri": "https://localhost:8080/",
          "height": 452
        },
        "outputId": "8adf44bc-f04d-4e03-8df1-4978a5860468"
      },
      "execution_count": 28,
      "outputs": [
        {
          "output_type": "display_data",
          "data": {
            "text/plain": [
              "<Figure size 640x480 with 1 Axes>"
            ],
            "image/png": "[encoded data removed]"
          },
          "metadata": {}
        }
      ]
    },
    {
      "cell_type": "code",
      "source": [
        "# Plotting RF predictions\n",
        "plt.subplot(1, 2, 2)\n",
        "plt.scatter(range(len(y_test)), y_test, label='Actual', color='red')\n",
        "plt.scatter(range(len(rf_predictions)), rf_predictions, label='Predicted (RF)', color='yellow')\n",
        "plt.title('RF Predictions')\n",
        "plt.legend()\n",
        "plt.show()"
      ],
      "metadata": {
        "colab": {
          "base_uri": "https://localhost:8080/",
          "height": 452
        },
        "id": "dkDEn5Mcq_d-",
        "outputId": "eb91c024-aec1-4d5e-bd10-3944f56b47d1"
      },
      "execution_count": 29,
      "outputs": [
        {
          "output_type": "display_data",
          "data": {
            "text/plain": [
              "<Figure size 640x480 with 1 Axes>"
            ],
            "image/png": "[encoded data removed]"
          },
          "metadata": {}
        }
      ]
    },
    {
      "cell_type": "code",
      "source": [
        "# Plotting DT predictions\n",
        "plt.subplot(1, 2, 2)\n",
        "plt.scatter(range(len(y_test)), y_test, label='Actual', color='green')\n",
        "plt.scatter(range(len(dt_predictions)), dt_predictions, label='Predicted (DT)', color='purple')\n",
        "plt.title('LR Predictions')\n",
        "plt.legend()\n",
        "plt.show()"
      ],
      "metadata": {
        "colab": {
          "base_uri": "https://localhost:8080/",
          "height": 452
        },
        "id": "WpCtB5uTrIp2",
        "outputId": "2bd66d08-b4b3-4858-8688-ce5b94f785c7"
      },
      "execution_count": 30,
      "outputs": [
        {
          "output_type": "display_data",
          "data": {
            "text/plain": [
              "<Figure size 640x480 with 1 Axes>"
            ],
            "image/png": "[encoded data removed]"
          },
          "metadata": {}
        }
      ]
    },
    {
      "cell_type": "code",
      "source": [
        "# Plotting SVM predictions\n",
        "plt.subplot(1, 2, 2)\n",
        "plt.scatter(range(len(y_test)), y_test, label='Actual', color='orange')\n",
        "plt.scatter(range(len(svm_predictions)), svm_predictions, label='Predicted (SVM)', color='pink')\n",
        "plt.title('SVM Predictions')\n",
        "plt.legend()\n",
        "plt.show()"
      ],
      "metadata": {
        "colab": {
          "base_uri": "https://localhost:8080/",
          "height": 452
        },
        "id": "aIpb2hWzrla8",
        "outputId": "df0ccfe4-a17c-4bcb-a8b0-d4137821eba5"
      },
      "execution_count": 31,
      "outputs": [
        {
          "output_type": "display_data",
          "data": {
            "text/plain": [
              "<Figure size 640x480 with 1 Axes>"
            ],
            "image/png": "[encoded data removed]"
          },
          "metadata": {}
        }
      ]
    },
    {
      "cell_type": "code",
      "source": [
        "# Plotting KNN predictions\n",
        "plt.subplot(1, 2, 2)\n",
        "plt.scatter(range(len(y_test)), y_test, label='Actual', color='blue')\n",
        "plt.scatter(range(len(knn_predictions)), knn_predictions, label='Predicted (KNN)', color='orange')\n",
        "plt.title('KNN Predictions')\n",
        "plt.legend()\n",
        "plt.show()"
      ],
      "metadata": {
        "colab": {
          "base_uri": "https://localhost:8080/",
          "height": 452
        },
        "id": "Obh_M0Vor8cp",
        "outputId": "e3f84955-a7c0-4052-fbd0-9d6c0e04168b"
      },
      "execution_count": 32,
      "outputs": [
        {
          "output_type": "display_data",
          "data": {
            "text/plain": [
              "<Figure size 640x480 with 1 Axes>"
            ],
            "image/png": "[encoded data removed]"
          },
          "metadata": {}
        }
      ]
    },
    {
      "cell_type": "code",
      "source": [
        "# Plotting DL predictions\n",
        "plt.subplot(1, 2, 2)\n",
        "plt.scatter(range(len(y_test)), y_test, label='Actual', color='green')\n",
        "plt.scatter(range(len(dl_predictions)), dl_predictions, label='Predicted (DL)', color='purple')\n",
        "plt.title('DL Predictions')\n",
        "plt.legend()\n",
        "plt.show()"
      ],
      "metadata": {
        "colab": {
          "base_uri": "https://localhost:8080/",
          "height": 452
        },
        "id": "XXNe-xxhsJ_e",
        "outputId": "21805b5c-7f61-4cb0-e3a0-41bf2727b7ed"
      },
      "execution_count": 33,
      "outputs": [
        {
          "output_type": "display_data",
          "data": {
            "text/plain": [
              "<Figure size 640x480 with 1 Axes>"
            ],
            "image/png": "[encoded data removed]"
          },
          "metadata": {}
        }
      ]
    }
  ]
}